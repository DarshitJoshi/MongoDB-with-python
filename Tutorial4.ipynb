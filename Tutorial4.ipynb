{
 "cells": [
  {
   "cell_type": "markdown",
   "id": "f9b25b75-5d14-4bf3-9f54-34212f8bd49f",
   "metadata": {},
   "source": [
    "## Mongo Db with Python - Querying JSON Documents "
   ]
  },
  {
   "cell_type": "code",
   "execution_count": 2,
   "id": "6dbdc36a-fce3-492f-b95c-06749e4e219a",
   "metadata": {},
   "outputs": [],
   "source": [
    "import pymongo\n",
    "client = pymongo.MongoClient('mongodb://127.0.0.1:27017/')\n",
    "mydb = client['Employee']\n",
    "empinfo = mydb.employeeinformation"
   ]
  },
  {
   "cell_type": "code",
   "execution_count": 3,
   "id": "ac0f94f3-ed86-4e0f-8390-74d08a2812b7",
   "metadata": {},
   "outputs": [
    {
     "data": {
      "text/plain": [
       "InsertOneResult(ObjectId('6697b342477c1c4134857f83'), acknowledged=True)"
      ]
     },
     "execution_count": 3,
     "metadata": {},
     "output_type": "execute_result"
    }
   ],
   "source": [
    "record = {\n",
    "    'firstname':'Darshit',\n",
    "    'lastname':'Joshi',\n",
    "    'department':'Analytics',\n",
    "    'qualification':'BE',\n",
    "    'age':29\n",
    "}\n",
    "empinfo.insert_one(record)"
   ]
  },
  {
   "cell_type": "code",
   "execution_count": 4,
   "id": "d2fb5a6f-8c9a-4d4a-b121-af6eb048634b",
   "metadata": {},
   "outputs": [],
   "source": [
    "record = [{\n",
    "    'firstname':'John',\n",
    "    'lastname':'Doe',\n",
    "    'department':'Analytics',\n",
    "    'qualification':'BE',\n",
    "    'age':29},\n",
    "    {\n",
    "    'firstname':'John',\n",
    "    'lastname':'Smith',\n",
    "    'department':'Analytics',\n",
    "    'qualification':'masters',\n",
    "    'age':35\n",
    "    },\n",
    "    {\n",
    "    'firstname':'Manish',\n",
    "    'lastname':'Sen',\n",
    "    'department':'Analytics',\n",
    "    'qualification':'phd',\n",
    "    'age':34\n",
    "    },\n",
    "    {\n",
    "    'firstname':'Ram',\n",
    "    'lastname':'Singh',\n",
    "    'department':'Analytics',\n",
    "    'qualification':'master',\n",
    "    'age':32\n",
    "    }]"
   ]
  },
  {
   "cell_type": "code",
   "execution_count": 6,
   "id": "49a0db4b-c336-48cc-9146-3dd101d9b1ac",
   "metadata": {},
   "outputs": [
    {
     "data": {
      "text/plain": [
       "InsertManyResult([ObjectId('6697b4b7477c1c4134857f84'), ObjectId('6697b4b7477c1c4134857f85'), ObjectId('6697b4b7477c1c4134857f86'), ObjectId('6697b4b7477c1c4134857f87')], acknowledged=True)"
      ]
     },
     "execution_count": 6,
     "metadata": {},
     "output_type": "execute_result"
    }
   ],
   "source": [
    "empinfo.insert_many(record)"
   ]
  },
  {
   "cell_type": "code",
   "execution_count": 9,
   "id": "36e3b59c-52f0-4b73-a1da-ce15adc04aed",
   "metadata": {},
   "outputs": [
    {
     "data": {
      "text/plain": [
       "{'_id': ObjectId('6697b0669e14e265dc571bf7'),\n",
       " 'firstname': 'Darshit',\n",
       " 'lastname': 'Joshi',\n",
       " 'department': 'Anakytics'}"
      ]
     },
     "execution_count": 9,
     "metadata": {},
     "output_type": "execute_result"
    }
   ],
   "source": [
    "## Simple way of Querying\n",
    "empinfo.find_one()   #by default 1st document present in Employee database will be fetched"
   ]
  },
  {
   "cell_type": "code",
   "execution_count": 16,
   "id": "2bed9399-fea3-44eb-9821-a2d391172fff",
   "metadata": {},
   "outputs": [
    {
     "name": "stdout",
     "output_type": "stream",
     "text": [
      "{'_id': ObjectId('6697b342477c1c4134857f83'), 'firstname': 'Darshit', 'lastname': 'Joshi', 'department': 'Analytics', 'qualification': 'BE', 'age': 29}\n",
      "{'_id': ObjectId('6697b4b7477c1c4134857f84'), 'firstname': 'John', 'lastname': 'Doe', 'department': 'Analytics', 'qualification': 'BE', 'age': 29}\n",
      "{'_id': ObjectId('6697b4b7477c1c4134857f85'), 'firstname': 'John', 'lastname': 'Smith', 'department': 'Analytics', 'qualification': 'masters', 'age': 35}\n",
      "{'_id': ObjectId('6697b4b7477c1c4134857f86'), 'firstname': 'Manish', 'lastname': 'Sen', 'department': 'Analytics', 'qualification': 'phd', 'age': 34}\n",
      "{'_id': ObjectId('6697b4b7477c1c4134857f87'), 'firstname': 'Ram', 'lastname': 'Singh', 'department': 'Analytics', 'qualification': 'master', 'age': 32}\n"
     ]
    }
   ],
   "source": [
    "for record in empinfo.find({}):\n",
    "    print(record)"
   ]
  },
  {
   "cell_type": "code",
   "execution_count": 18,
   "id": "b84d8dd0-1222-4bfe-a929-b26ae3da7298",
   "metadata": {},
   "outputs": [
    {
     "name": "stdout",
     "output_type": "stream",
     "text": [
      "{'_id': ObjectId('6697b342477c1c4134857f83'), 'firstname': 'Darshit', 'lastname': 'Joshi', 'department': 'Analytics', 'qualification': 'BE', 'age': 29}\n"
     ]
    }
   ],
   "source": [
    "## Query the json document based on equality condition\n",
    "for record in empinfo.find({\"firstname\":\"Darshit\"}):\n",
    "    print(record)"
   ]
  },
  {
   "cell_type": "code",
   "execution_count": 20,
   "id": "82af65af-5d52-451c-b116-f8c79677d4e5",
   "metadata": {},
   "outputs": [
    {
     "name": "stdout",
     "output_type": "stream",
     "text": [
      "{'_id': ObjectId('6697b4b7477c1c4134857f86'), 'firstname': 'Manish', 'lastname': 'Sen', 'department': 'Analytics', 'qualification': 'phd', 'age': 34}\n",
      "{'_id': ObjectId('6697b4b7477c1c4134857f87'), 'firstname': 'Ram', 'lastname': 'Singh', 'department': 'Analytics', 'qualification': 'master', 'age': 32}\n"
     ]
    }
   ],
   "source": [
    "## Query documents using query operators($in, $lt, $gt)   lt means less than , gt mean greater than \n",
    "for record in empinfo.find({'qualification':{'$in':['phd','master']}}):\n",
    "    print(record)"
   ]
  },
  {
   "cell_type": "code",
   "execution_count": 25,
   "id": "060fdf12-d128-43d1-844e-794b829e9b8d",
   "metadata": {},
   "outputs": [
    {
     "name": "stdout",
     "output_type": "stream",
     "text": [
      "{'_id': ObjectId('6697b4b7477c1c4134857f87'), 'firstname': 'Ram', 'lastname': 'Singh', 'department': 'Analytics', 'qualification': 'master', 'age': 32}\n"
     ]
    }
   ],
   "source": [
    "## Combination of And and Query Operators   \n",
    "for record in empinfo.find({'qualification':'master','age':{'$lt':35}}):\n",
    "    print(record)"
   ]
  },
  {
   "cell_type": "code",
   "execution_count": 33,
   "id": "b5578bac-2bc4-4f42-8577-91ce6d0f5b18",
   "metadata": {},
   "outputs": [
    {
     "name": "stdout",
     "output_type": "stream",
     "text": [
      "{'_id': ObjectId('6697b342477c1c4134857f83'), 'firstname': 'Darshit', 'lastname': 'Joshi', 'department': 'Analytics', 'qualification': 'BE', 'age': 29}\n",
      "{'_id': ObjectId('6697b4b7477c1c4134857f87'), 'firstname': 'Ram', 'lastname': 'Singh', 'department': 'Analytics', 'qualification': 'master', 'age': 32}\n"
     ]
    }
   ],
   "source": [
    "## Or operation\n",
    "for record in empinfo.find({'$or':[{'firstname':'Darshit'}, {'qualification':'master'}]}):\n",
    "    print(record)"
   ]
  },
  {
   "cell_type": "code",
   "execution_count": 35,
   "id": "e28f91d5-5e3e-4023-9805-8441b178719c",
   "metadata": {},
   "outputs": [],
   "source": [
    "inventory=mydb.inventory"
   ]
  },
  {
   "cell_type": "code",
   "execution_count": 36,
   "id": "f20aeed5-e429-4ca9-90ac-c1cc3a24db93",
   "metadata": {},
   "outputs": [],
   "source": [
    "inventory.insert_many( [\n",
    "   { 'item': \"journal\", 'qty': 25, 'size': { 'h': 14, 'w': 21,'uom': \"cm\" }, 'status': \"A\" },\n",
    "   { 'item': \"notebook\", 'qty': 50,'size': { 'h': 8.5, 'w': 11,'uom': \"in\" },'status': \"A\" },\n",
    "   { 'item': \"paper\", 'qty': 100, 'size': { 'h': 8.5, 'w': 11,'uom': \"in\" },'status': \"D\" },\n",
    "   { 'item': \"planner\", 'qty': 75, 'size': { 'h': 22.85,'w': 30,'uom': \"cm\" },'status': \"D\" },\n",
    "   { 'item': \"postcard\", 'qty': 45, 'size': { 'h': 10, 'w': 15.25,'uom': \"cm\" },'status': \"A\" }\n",
    "]);"
   ]
  },
  {
   "cell_type": "code",
   "execution_count": 37,
   "id": "2f1bf54f-4901-4d06-b4ab-083de3eca0e4",
   "metadata": {},
   "outputs": [
    {
     "name": "stdout",
     "output_type": "stream",
     "text": [
      "{'_id': ObjectId('6697bb47477c1c4134857f88'), 'item': 'journal', 'qty': 25, 'size': {'h': 14, 'w': 21, 'uom': 'cm'}, 'status': 'A'}\n"
     ]
    }
   ],
   "source": [
    "for records in inventory.find({'size': { 'h': 14, 'w': 21,'uom': \"cm\" }}):\n",
    "    print(records)"
   ]
  },
  {
   "cell_type": "code",
   "execution_count": null,
   "id": "fabe7a34-ac1f-498a-b0b9-68a4dd2a390d",
   "metadata": {},
   "outputs": [],
   "source": []
  },
  {
   "cell_type": "code",
   "execution_count": null,
   "id": "b78e2717-406b-4980-ba04-772cce33449c",
   "metadata": {},
   "outputs": [],
   "source": []
  }
 ],
 "metadata": {
  "kernelspec": {
   "display_name": "Python 3 (ipykernel)",
   "language": "python",
   "name": "python3"
  },
  "language_info": {
   "codemirror_mode": {
    "name": "ipython",
    "version": 3
   },
   "file_extension": ".py",
   "mimetype": "text/x-python",
   "name": "python",
   "nbconvert_exporter": "python",
   "pygments_lexer": "ipython3",
   "version": "3.12.4"
  }
 },
 "nbformat": 4,
 "nbformat_minor": 5
}
